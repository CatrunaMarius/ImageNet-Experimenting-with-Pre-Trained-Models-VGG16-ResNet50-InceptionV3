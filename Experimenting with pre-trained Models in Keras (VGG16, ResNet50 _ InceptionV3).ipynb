{
 "nbformat": 4,
 "nbformat_minor": 2,
 "metadata": {
  "language_info": {
   "name": "python",
   "codemirror_mode": {
    "name": "ipython",
    "version": 3
   },
   "version": "3.7.4-final"
  },
  "orig_nbformat": 2,
  "file_extension": ".py",
  "mimetype": "text/x-python",
  "name": "python",
  "npconvert_exporter": "python",
  "pygments_lexer": "ipython3",
  "version": 3,
  "kernelspec": {
   "name": "python37464bit43b0aca25f3a478a89236e706d769e39",
   "display_name": "Python 3.7.4 64-bit"
  }
 },
 "cells": [
  {
   "cell_type": "markdown",
   "execution_count": null,
   "metadata": {},
   "outputs": [],
   "source": [
    "# Incepem prin a incarca ResNet50, acesta este un model deja creat"
   ]
  },
  {
   "cell_type": "code",
   "execution_count": 1,
   "metadata": {},
   "outputs": [
    {
     "name": "stderr",
     "output_type": "stream",
     "text": "Using TensorFlow backend.\nWARNING:tensorflow:From C:\\Users\\Harum\\AppData\\Local\\Programs\\Python\\Python37\\lib\\site-packages\\tensorflow\\python\\ops\\resource_variable_ops.py:435: colocate_with (from tensorflow.python.framework.ops) is deprecated and will be removed in a future version.\nInstructions for updating:\nColocations handled automatically by placer.\n"
    }
   ],
   "source": [
    "from keras.applications.resnet50 import ResNet50\n",
    "from keras.preprocessing import image\n",
    "from keras.applications.resnet50 import preprocess_input, decode_predictions\n",
    "import numpy as np\n",
    "\n",
    "resnet_model = ResNet50(weights='imagenet')"
   ]
  },
  {
   "cell_type": "code",
   "execution_count": 2,
   "metadata": {},
   "outputs": [
    {
     "name": "stdout",
     "output_type": "stream",
     "text": "Predicted:  [('n02100583', 'vizsla', 0.506057), ('n02092339', 'Weimaraner', 0.30192468), ('n02099849', 'Chesapeake_Bay_retriever', 0.112132676)]\n"
    }
   ],
   "source": [
    "from keras.preprocessing import image\n",
    "img_path = 'c:/Users/Harum/Documents/14/images/dog.jpg'\n",
    "\n",
    "img = image.load_img(img_path, target_size=(224, 224))\n",
    "x= image.img_to_array(img)\n",
    "x = np.expand_dims(x,axis=0)\n",
    "x = preprocess_input(x)\n",
    "\n",
    "preds = resnet_model.predict(x)\n",
    "#decodează rezultatele într-o listă de tupluri (clasă, descriere, probabilitate)\n",
    "# (o astfel de listă pentru fiecare eșantion din lot)\n",
    "print(\"Predicted: \", decode_predictions(preds, top=3)[0])"
   ]
  },
  {
   "cell_type": "markdown",
   "execution_count": null,
   "metadata": {},
   "outputs": [],
   "source": [
    "# Să parcurgem câteva imagini de testare"
   ]
  },
  {
   "cell_type": "code",
   "execution_count": 3,
   "metadata": {},
   "outputs": [],
   "source": [
    "import cv2\n",
    "from os import listdir\n",
    "from os.path import isfile, join\n",
    "\n",
    "#Funcția noastră openCV care afișează imaginea și  prezice labels\n",
    "def draw_test(name, preditions, input_im):\n",
    "    BLACK = [0,0,0]\n",
    "    expanded_image = cv2.copyMakeBorder(input_im, 0, 0, 0, imageL.shape[1]+300, cv2.BORDER_CONSTANT, value=BLACK)\n",
    "    img_width = input_im.shape[1]\n",
    "    for (i, predition) in enumerate(preditions):\n",
    "        string= str(predition[1])+ \" \" + str(predition[2])\n",
    "        cv2.putText(expanded_image, str(name),(img_width +50,50),cv2.FONT_HERSHEY_COMPLEX_SMALL, 2, (0,0,255), 1)\n",
    "        cv2.putText(expanded_image,string, (img_width +50,50+((i+1)*50)),cv2.FONT_HERSHEY_COMPLEX_SMALL,2,(0,255,0),1)\n",
    "        cv2.imshow(name, expanded_image)\n",
    "\n",
    "#ia imaginea care se afla in folderul c:/Users/Harum/Documents/14/images/\n",
    "mypath = \"c:/Users/Harum/Documents/14/images/\"\n",
    "file_names = [f for f in listdir(mypath) if isfile(join(mypath, f))]\n",
    "\n",
    "# Buclă prin imagini rulează-le prin clasificatorul nostru\n",
    "for file in file_names:\n",
    "    from keras.preprocessing import image # Necesitatea reîncărcării, deoarece opencv2 pare să aibă un conflict\n",
    "    img = image.load_img(mypath+file, target_size=(224,224))\n",
    "    x = image.img_to_array(img)\n",
    "    x = np.expand_dims(x, axis=0)\n",
    "    x = preprocess_input(x)\n",
    "\n",
    "    #incarca imaginea folosind opencv\n",
    "    img2 = cv2.imread(mypath+file)\n",
    "    imageL = cv2.resize(img2,None,fx=.5,fy=.5,interpolation= cv2.INTER_CUBIC)\n",
    "\n",
    "    #Predictia\n",
    "    preds = resnet_model.predict(x)\n",
    "    preditions = decode_predictions(preds, top=3)[0]\n",
    "    draw_test(\"Predictions\", preditions, imageL)\n",
    "    cv2.waitKey(0)\n",
    "\n",
    "cv2.destroyAllWindows()\n"
   ]
  },
  {
   "cell_type": "markdown",
   "execution_count": null,
   "metadata": {},
   "outputs": [],
   "source": [
    "# Să încărcăm acum VGG16 și InceptionV3, acestea sunt modele deja create"
   ]
  },
  {
   "cell_type": "code",
   "execution_count": 4,
   "metadata": {},
   "outputs": [],
   "source": [
    "import keras\n",
    "import numpy as np\n",
    "from keras.applications import vgg16, inception_v3, resnet50\n",
    "\n",
    "#Incaraca modelul VGG16\n",
    "vgg_model = vgg16.VGG16(weights='imagenet')\n",
    "\n",
    "#Incarca modelul Inception_v3\n",
    "inception_model = inception_v3.InceptionV3(weights='imagenet')\n",
    "\n",
    "# Încarcă modelul ResNet50\n",
    "# decomandați linia de mai jos dacă nu ați încărcat resnet50 înainte\n",
    "#resnet_model = resnet50.ResNet50(weights='imagenet')"
   ]
  },
  {
   "cell_type": "markdown",
   "execution_count": null,
   "metadata": {},
   "outputs": [],
   "source": [
    "# Comparam toate 3 modele cu aceleasi imagini de test"
   ]
  },
  {
   "cell_type": "code",
   "execution_count": 5,
   "metadata": {},
   "outputs": [],
   "source": [
    "#incarca imaginile din folderul c:/Users/Harum/Documents/14/images/\n",
    "mypath = \"c:/Users/Harum/Documents/14/images/\"\n",
    "file_names = [ f for f in listdir(mypath) if isfile(join(mypath, f))]\n",
    "\n",
    "## Buclă prin imagini rulează-le prin clasificatorul nostru\n",
    "for file in file_names:\n",
    "\n",
    "    from keras.preprocessing import image       \n",
    "\n",
    "    img = image.load_img(mypath+file, target_size=(224,224))\n",
    "    x = image.img_to_array(img)\n",
    "    x = np.expand_dims(x,axis=0)\n",
    "    x = preprocess_input(x)\n",
    "\n",
    "    #incarca imagine folosind OpenCV\n",
    "    img2 = cv2.imread(mypath+file)\n",
    "    imageL = cv2.resize(img2, None, fx=.5,fy=.5, interpolation= cv2.INTER_CUBIC)\n",
    "\n",
    "    #VGG16 Prezicere\n",
    "    preds_vgg_model = vgg_model.predict(x)\n",
    "    preditions_vgg = decode_predictions(preds_vgg_model, top=3)[0]\n",
    "    draw_test(\"VGG16 Prediction\", preditions_vgg, imageL)\n",
    "\n",
    "    \n",
    "\n",
    "    #ResNet50 Prezicere\n",
    "    preds_resnet = resnet_model.predict(x)\n",
    "    preditions_resnet = decode_predictions(preds_resnet, top=3)[0]\n",
    "    draw_test(\"ResNet50 Predictions\", preditions_resnet, imageL)\n",
    "\n",
    "    img = image.load_img(mypath+file, target_size=(299,299))\n",
    "    x = image.img_to_array(img)\n",
    "    x = np.expand_dims(x,axis=0)\n",
    "    x = preprocess_input(x)\n",
    "    #Inception_v3 Prezicere\n",
    "    preds_inception = inception_model.predict(x)\n",
    "    preds_inception = decode_predictions(preds, top=3)[0]\n",
    "    draw_test(\"Inception_v3 Predictions\", preds_inception, imageL)\n",
    "\n",
    "    cv2.waitKey(0)\n",
    "\n",
    "cv2.destroyAllWindows() "
   ]
  },
  {
   "cell_type": "code",
   "execution_count": null,
   "metadata": {},
   "outputs": [],
   "source": []
  }
 ]
}